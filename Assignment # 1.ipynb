{
 "cells": [
  {
   "cell_type": "code",
   "execution_count": 1,
   "metadata": {},
   "outputs": [
    {
     "name": "stdout",
     "output_type": "stream",
     "text": [
      "TWinkle, twinkle, little star, \n",
      "\t How I wonder what you are! \n",
      "\t\t Up above the world so high, \n",
      "\t\t Like a diamond in the sky. \n",
      " TWinkle, twinkle, little star, \n",
      "\t How I wonder what you are!\n"
     ]
    }
   ],
   "source": [
    "# Assignment No. 1\n",
    "# Solution to Question No. 1\n",
    "\n",
    "a = \"TWinkle, twinkle, little star,\"\n",
    "b = \"How I wonder what you are!\"\n",
    "c = \"Up above the world so high,\"\n",
    "d = \"Like a diamond in the sky.\"\n",
    "print (a,'\\n\\t', b, '\\n\\t\\t', c, '\\n\\t\\t', d, '\\n', a , '\\n\\t', b)"
   ]
  },
  {
   "cell_type": "code",
   "execution_count": 2,
   "metadata": {},
   "outputs": [
    {
     "name": "stdout",
     "output_type": "stream",
     "text": [
      "Python Version is : \n",
      "\n",
      "3.8.8 (default, Apr 13 2021, 15:08:03) [MSC v.1916 64 bit (AMD64)]\n"
     ]
    }
   ],
   "source": [
    "# Assignment No. 1\n",
    "# Solution to Question No. 2\n",
    "# Write a Python Program to get the Python Version you are using?\n",
    "\n",
    "import sys\n",
    "print (\"Python Version is : \\n\")\n",
    "print (sys.version)"
   ]
  },
  {
   "cell_type": "code",
   "execution_count": 3,
   "metadata": {},
   "outputs": [
    {
     "name": "stdout",
     "output_type": "stream",
     "text": [
      "Today is : yyyy-mm-dd hh:mm:ss.ssssss\n",
      "\t   2022-01-01 23:33:26.629690\n"
     ]
    }
   ],
   "source": [
    "# Assignment No. 1\n",
    "# Solution to Question No. 3\n",
    "# Write a Python Program to display the current date and time?\n",
    "\n",
    "from datetime import datetime\n",
    "today = datetime.now()\n",
    "print (\"Today is : yyyy-mm-dd hh:mm:ss.ssssss\" '\\n\\t' \"  \", today)"
   ]
  },
  {
   "cell_type": "code",
   "execution_count": 4,
   "metadata": {},
   "outputs": [
    {
     "name": "stdout",
     "output_type": "stream",
     "text": [
      "Enter Radius of Circle : 10\n",
      "Area of Circle :  314.1592653589793\n"
     ]
    }
   ],
   "source": [
    "# Assignment No. 1\n",
    "# Solution to Question No. 4\n",
    "# Write a Python program which accepts radius of a circle from the user and compute the area?\n",
    "\n",
    "import math\n",
    "radius = float(input(\"Enter Radius of Circle : \"))\n",
    "area = math.pi * (radius ** 2)\n",
    "print (\"Area of Circle : \", area)"
   ]
  },
  {
   "cell_type": "code",
   "execution_count": 5,
   "metadata": {},
   "outputs": [
    {
     "name": "stdout",
     "output_type": "stream",
     "text": [
      "Enter First Name :Ali\n",
      "Enter Last Name :Abbas\n",
      "Your Name in reverse Order is :  Abbas   Ali\n"
     ]
    }
   ],
   "source": [
    "# Assignment No. 1\n",
    "# Solution to Question No. 5\n",
    "# Write a Python program which accepts the users first name and last name and print them in reverse order with a space between them?\n",
    "\n",
    "First_Name = input(\"Enter First Name :\")\n",
    "Last_Name = input(\"Enter Last Name :\")\n",
    "print (\"Your Name in reverse Order is : \", Last_Name, \" \", First_Name)\n"
   ]
  },
  {
   "cell_type": "code",
   "execution_count": 6,
   "metadata": {},
   "outputs": [
    {
     "name": "stdout",
     "output_type": "stream",
     "text": [
      "Code to display addition of two desired numbers\n",
      "Enter First Number :15\n",
      "Enter Second Number :25\n",
      "Sum of two given numbers 15.0  &  25.0  is : 40.0\n"
     ]
    }
   ],
   "source": [
    "# Assignment No. 1\n",
    "# Solution to Question No. 6\n",
    "# Write a Python program which takes two inputs from user and print them addition?\n",
    "\n",
    "print(\"Code to display addition of two desired numbers\")\n",
    "Fist_Number = float(input(\"Enter First Number :\"))\n",
    "Second_Number = float(input(\"Enter Second Number :\"))\n",
    "print(\"Sum of two given numbers\", Fist_Number, \" & \", Second_Number, \" is :\" , Fist_Number + Second_Number)"
   ]
  },
  {
   "cell_type": "code",
   "execution_count": null,
   "metadata": {},
   "outputs": [],
   "source": []
  }
 ],
 "metadata": {
  "kernelspec": {
   "display_name": "Python 3",
   "language": "python",
   "name": "python3"
  },
  "language_info": {
   "codemirror_mode": {
    "name": "ipython",
    "version": 3
   },
   "file_extension": ".py",
   "mimetype": "text/x-python",
   "name": "python",
   "nbconvert_exporter": "python",
   "pygments_lexer": "ipython3",
   "version": "3.8.8"
  }
 },
 "nbformat": 4,
 "nbformat_minor": 2
}
